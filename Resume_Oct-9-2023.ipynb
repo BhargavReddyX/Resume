{
 "cells": [
  {
   "cell_type": "markdown",
   "id": "99921621",
   "metadata": {},
   "source": [
    "## Bhargav Reddy "
   ]
  },
  {
   "cell_type": "markdown",
   "id": "73eddf44",
   "metadata": {},
   "source": [
    "An independent and self-motivated graduate looking for good opportunities which provide platform to improve my skills."
   ]
  },
  {
   "cell_type": "markdown",
   "id": "75105097",
   "metadata": {},
   "source": [
    "<i>Mobile No. 9xxxx150xx</i> \n",
    "        "
   ]
  },
  {
   "cell_type": "markdown",
   "id": "200e1411",
   "metadata": {},
   "source": [
    "<i>Email ID - bhargavreddyxx@gmail.com</i>\n",
    "        "
   ]
  },
  {
   "cell_type": "markdown",
   "id": "87805e83",
   "metadata": {},
   "source": [
    "<i>Address - Hyderabad-500038</i>"
   ]
  },
  {
   "cell_type": "markdown",
   "id": "a44ddde4",
   "metadata": {},
   "source": [
    "LinkedIn [Here](https://www.linkedin.com/in/bhargav-reddy-kanuparthy-096a33257?utm_source=share&utm_campaign=share_via&utm_content=profile&utm_medium=ios_app)\n",
    "\n",
    "GitHub [Here](https://github.com/BhargavReddyX)\n",
    "\n",
    "Kaggle [Here](https://www.kaggle.com/bhargavreddyx)"
   ]
  },
  {
   "cell_type": "markdown",
   "id": "17235029",
   "metadata": {},
   "source": [
    "> **Education**\n",
    "\n",
    "        > B.Tech, Mechanical engineering from\n",
    "           Vardhaman College of Engineering - April,2023\n",
    "           GPA: 6.8\n",
    "        > Intermediate, MPC from\n",
    "           Meluha International school - April,2019\n",
    "           GPA: 6.5"
   ]
  },
  {
   "cell_type": "markdown",
   "id": "fc912382",
   "metadata": {},
   "source": [
    "> **Software and computer languages**\n",
    "\n",
    "        > Data Structures with C\n",
    "        > Python programming\n",
    "        > CATIA\n",
    "        > ANSYS\n",
    "        > AutoCAD"
   ]
  },
  {
   "cell_type": "markdown",
   "id": "3251a581",
   "metadata": {},
   "source": [
    "> **Projects**\n",
    "\n",
    "        > Regenerative Braking system\n",
    "        > Regenerative Suspension system\n",
    "        > Revolving door energy system"
   ]
  },
  {
   "cell_type": "markdown",
   "id": "2b4d7a67",
   "metadata": {},
   "source": [
    "> **Skills**\n",
    "\n",
    "        > Strategic planning\n",
    "        > Analytical\n",
    "        > Innovative and creative\n",
    "        > Adaptable and flexible in work environment\n",
    "        > Continuous improvement"
   ]
  },
  {
   "cell_type": "markdown",
   "id": "93b0250f",
   "metadata": {},
   "source": [
    "> **Internships**\n",
    "\n",
    "        > Manufacturing and designing of Military components\n",
    "        > Design and Basics of Robotics"
   ]
  },
  {
   "cell_type": "markdown",
   "id": "96c0b961",
   "metadata": {},
   "source": [
    "> **Interests** \n",
    "\n",
    "        > Geopolitics\n",
    "        > Formula 1\n",
    "        > Automobile and aerodynamics\n",
    "        > Cricket\n",
    "        "
   ]
  },
  {
   "cell_type": "markdown",
   "id": "5b2121d8",
   "metadata": {},
   "source": [
    "> **Languages**\n",
    "\n",
    "        > English\n",
    "        > Telugu\n",
    "        > Hindi"
   ]
  },
  {
   "cell_type": "markdown",
   "id": "92b220ae",
   "metadata": {},
   "source": [
    "> **Declaration**\n",
    "\n",
    "      \n",
    "   I hereby declare that all the statements made in this resume are true to the best of my knowledge and belief."
   ]
  }
 ],
 "metadata": {
  "kernelspec": {
   "display_name": "Python 3 (ipykernel)",
   "language": "python",
   "name": "python3"
  },
  "language_info": {
   "codemirror_mode": {
    "name": "ipython",
    "version": 3
   },
   "file_extension": ".py",
   "mimetype": "text/x-python",
   "name": "python",
   "nbconvert_exporter": "python",
   "pygments_lexer": "ipython3",
   "version": "3.11.5"
  }
 },
 "nbformat": 4,
 "nbformat_minor": 5
}
